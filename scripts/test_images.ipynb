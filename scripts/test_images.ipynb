{
 "cells": [
  {
   "cell_type": "code",
   "execution_count": 1,
   "metadata": {},
   "outputs": [
    {
     "ename": "ModuleNotFoundError",
     "evalue": "No module named 'plotly'",
     "output_type": "error",
     "traceback": [
      "\u001b[0;31m---------------------------------------------------------------------------\u001b[0m",
      "\u001b[0;31mModuleNotFoundError\u001b[0m                       Traceback (most recent call last)",
      "Cell \u001b[0;32mIn[1], line 2\u001b[0m\n\u001b[1;32m      1\u001b[0m \u001b[38;5;28;01mimport\u001b[39;00m \u001b[38;5;21;01mcv2\u001b[39;00m\n\u001b[0;32m----> 2\u001b[0m \u001b[38;5;28;01mimport\u001b[39;00m \u001b[38;5;21;01mplotly\u001b[39;00m\u001b[38;5;21;01m.\u001b[39;00m\u001b[38;5;21;01mgraph_objects\u001b[39;00m \u001b[38;5;28;01mas\u001b[39;00m \u001b[38;5;21;01mgo\u001b[39;00m\n\u001b[1;32m      3\u001b[0m \u001b[38;5;28;01mfrom\u001b[39;00m \u001b[38;5;21;01mPIL\u001b[39;00m \u001b[38;5;28;01mimport\u001b[39;00m Image\n\u001b[1;32m      5\u001b[0m \u001b[38;5;28;01mdef\u001b[39;00m \u001b[38;5;21mload_yolo_annotations\u001b[39m(txt_path):\n",
      "\u001b[0;31mModuleNotFoundError\u001b[0m: No module named 'plotly'"
     ]
    }
   ],
   "source": [
    "import cv2\n",
    "import plotly.graph_objects as go\n",
    "from PIL import Image\n",
    "\n",
    "def load_yolo_annotations(txt_path):\n",
    "    annotations = []\n",
    "    with open(txt_path, 'r') as f:\n",
    "        lines = f.readlines()\n",
    "        for line in lines:\n",
    "            # YOLO format: class_id center_x center_y width height\n",
    "            class_id, center_x, center_y, box_width, box_height = map(float, line.strip().split())\n",
    "            annotations.append([class_id, center_x, center_y, box_width, box_height])\n",
    "    return annotations\n",
    "\n",
    "def draw_bounding_boxes(image_path, txt_path, class_names=None):\n",
    "    # Load image\n",
    "    image = Image.open(image_path)\n",
    "    image_width, image_height = image.size\n",
    "    \n",
    "    # Load the annotations\n",
    "    annotations = load_yolo_annotations(txt_path)\n",
    "\n",
    "    # Initialize Plotly figure\n",
    "    fig = go.Figure()\n",
    "\n",
    "    # Add image as background\n",
    "    fig.add_layout_image(\n",
    "        dict(\n",
    "            source=image,\n",
    "            xref=\"x\",\n",
    "            yref=\"y\",\n",
    "            x=0,\n",
    "            y=0,\n",
    "            sizex=image_width,\n",
    "            sizey=image_height,\n",
    "            sizing=\"stretch\",\n",
    "            layer=\"below\"\n",
    "        )\n",
    "    )\n",
    "\n",
    "    # Add bounding boxes to the figure\n",
    "    for annotation in annotations:\n",
    "        class_id, center_x, center_y, box_width, box_height = annotation\n",
    "        \n",
    "        # Convert relative coordinates to absolute pixel coordinates\n",
    "        x1 = int((center_x - box_width / 2) * image_width)\n",
    "        y1 = int((center_y - box_height / 2) * image_height)\n",
    "        x2 = int((center_x + box_width / 2) * image_width)\n",
    "        y2 = int((center_y + box_height / 2) * image_height)\n",
    "        \n",
    "        # Draw rectangle for the bounding box\n",
    "        fig.add_shape(type=\"rect\",\n",
    "                      x0=x1, y0=image_height - y1, x1=x2, y1=image_height - y2,\n",
    "                      line=dict(color=\"green\", width=3))\n",
    "\n",
    "    # Set figure dimensions to match the image\n",
    "    fig.update_xaxes(visible=False, range=[0, image_width])\n",
    "    fig.update_yaxes(visible=False, range=[0, image_height])\n",
    "    \n",
    "    fig.update_layout(width=image_width, height=image_height, margin=dict(l=0, r=0, t=0, b=0))\n",
    "    \n",
    "    # Show the image with bounding boxes\n",
    "    fig.show()\n",
    "\n",
    "# Example usage:\n",
    "image_path = '../../yolo/datasets/DeepFish-2/valid/images/9908_Acanthopagrus_palmaris_f000051_jpg.rf.3f4d75c61b41b620205f7c9bc537e2ea.jpg'  # Replace with your image file path\n",
    "txt_path = '../../yolo/datasets/DeepFish-2/valid/labels/9908_Acanthopagrus_palmaris_f000051_jpg.rf.3f4d75c61b41b620205f7c9bc537e2ea.txt'\n",
    "\n",
    "draw_bounding_boxes(image_path, txt_path)\n"
   ]
  }
 ],
 "metadata": {
  "kernelspec": {
   "display_name": "venv",
   "language": "python",
   "name": "python3"
  },
  "language_info": {
   "codemirror_mode": {
    "name": "ipython",
    "version": 3
   },
   "file_extension": ".py",
   "mimetype": "text/x-python",
   "name": "python",
   "nbconvert_exporter": "python",
   "pygments_lexer": "ipython3",
   "version": "3.9.20"
  }
 },
 "nbformat": 4,
 "nbformat_minor": 2
}
